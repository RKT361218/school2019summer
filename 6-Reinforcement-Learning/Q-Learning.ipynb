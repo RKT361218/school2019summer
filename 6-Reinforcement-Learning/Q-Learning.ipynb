{
 "cells": [
  {
   "cell_type": "markdown",
   "metadata": {},
   "source": [
    "## Q-Learning"
   ]
  },
  {
   "cell_type": "markdown",
   "metadata": {},
   "source": [
    "Ref: https://artint.info/html/ArtInt_265.html"
   ]
  },
  {
   "cell_type": "code",
   "execution_count": 8,
   "metadata": {},
   "outputs": [],
   "source": [
    "import threading\n",
    "import time\n",
    "\n",
    "actions = [\"up\", \"down\", \"left\", \"right\"]\n",
    "Width = 100\n",
    "(x, y) = (5, 5)\n",
    "\n",
    "player = (0, y-1)\n",
    "score = 1\n",
    "\n",
    "walk_reward = -0.04\n",
    "walls = [(1, 1), (1, 2), (2, 1), (2, 2)]\n",
    "specials = [(4, 1, \"red\", -1), (4, 0, \"green\", 1)]\n",
    "\n",
    "Q = {}"
   ]
  },
  {
   "cell_type": "code",
   "execution_count": 9,
   "metadata": {},
   "outputs": [
    {
     "data": {
      "text/plain": [
       "[(0, 0),\n",
       " (0, 1),\n",
       " (0, 2),\n",
       " (0, 3),\n",
       " (0, 4),\n",
       " (1, 0),\n",
       " (1, 1),\n",
       " (1, 2),\n",
       " (1, 3),\n",
       " (1, 4),\n",
       " (2, 0),\n",
       " (2, 1),\n",
       " (2, 2),\n",
       " (2, 3),\n",
       " (2, 4),\n",
       " (3, 0),\n",
       " (3, 1),\n",
       " (3, 2),\n",
       " (3, 3),\n",
       " (3, 4),\n",
       " (4, 0),\n",
       " (4, 1),\n",
       " (4, 2),\n",
       " (4, 3),\n",
       " (4, 4)]"
      ]
     },
     "execution_count": 9,
     "metadata": {},
     "output_type": "execute_result"
    }
   ],
   "source": [
    "states = []\n",
    "for i in range(x):\n",
    "    for j in range(y):\n",
    "        states.append((i, j))\n",
    "        \n",
    "states"
   ]
  },
  {
   "cell_type": "code",
   "execution_count": 10,
   "metadata": {},
   "outputs": [],
   "source": [
    "for state in states:\n",
    "    temp = {}\n",
    "    for action in actions:\n",
    "        temp[action] = 0.1\n",
    "    Q[state] = temp"
   ]
  },
  {
   "cell_type": "code",
   "execution_count": 11,
   "metadata": {},
   "outputs": [
    {
     "data": {
      "text/plain": [
       "{(0, 0): {'up': 0.1, 'down': 0.1, 'left': 0.1, 'right': 0.1},\n",
       " (0, 1): {'up': 0.1, 'down': 0.1, 'left': 0.1, 'right': 0.1},\n",
       " (0, 2): {'up': 0.1, 'down': 0.1, 'left': 0.1, 'right': 0.1},\n",
       " (0, 3): {'up': 0.1, 'down': 0.1, 'left': 0.1, 'right': 0.1},\n",
       " (0, 4): {'up': 0.1, 'down': 0.1, 'left': 0.1, 'right': 0.1},\n",
       " (1, 0): {'up': 0.1, 'down': 0.1, 'left': 0.1, 'right': 0.1},\n",
       " (1, 1): {'up': 0.1, 'down': 0.1, 'left': 0.1, 'right': 0.1},\n",
       " (1, 2): {'up': 0.1, 'down': 0.1, 'left': 0.1, 'right': 0.1},\n",
       " (1, 3): {'up': 0.1, 'down': 0.1, 'left': 0.1, 'right': 0.1},\n",
       " (1, 4): {'up': 0.1, 'down': 0.1, 'left': 0.1, 'right': 0.1},\n",
       " (2, 0): {'up': 0.1, 'down': 0.1, 'left': 0.1, 'right': 0.1},\n",
       " (2, 1): {'up': 0.1, 'down': 0.1, 'left': 0.1, 'right': 0.1},\n",
       " (2, 2): {'up': 0.1, 'down': 0.1, 'left': 0.1, 'right': 0.1},\n",
       " (2, 3): {'up': 0.1, 'down': 0.1, 'left': 0.1, 'right': 0.1},\n",
       " (2, 4): {'up': 0.1, 'down': 0.1, 'left': 0.1, 'right': 0.1},\n",
       " (3, 0): {'up': 0.1, 'down': 0.1, 'left': 0.1, 'right': 0.1},\n",
       " (3, 1): {'up': 0.1, 'down': 0.1, 'left': 0.1, 'right': 0.1},\n",
       " (3, 2): {'up': 0.1, 'down': 0.1, 'left': 0.1, 'right': 0.1},\n",
       " (3, 3): {'up': 0.1, 'down': 0.1, 'left': 0.1, 'right': 0.1},\n",
       " (3, 4): {'up': 0.1, 'down': 0.1, 'left': 0.1, 'right': 0.1},\n",
       " (4, 0): {'up': 0.1, 'down': 0.1, 'left': 0.1, 'right': 0.1},\n",
       " (4, 1): {'up': 0.1, 'down': 0.1, 'left': 0.1, 'right': 0.1},\n",
       " (4, 2): {'up': 0.1, 'down': 0.1, 'left': 0.1, 'right': 0.1},\n",
       " (4, 3): {'up': 0.1, 'down': 0.1, 'left': 0.1, 'right': 0.1},\n",
       " (4, 4): {'up': 0.1, 'down': 0.1, 'left': 0.1, 'right': 0.1}}"
      ]
     },
     "execution_count": 11,
     "metadata": {},
     "output_type": "execute_result"
    }
   ],
   "source": [
    "Q"
   ]
  },
  {
   "cell_type": "code",
   "execution_count": 12,
   "metadata": {},
   "outputs": [],
   "source": [
    "for (i, j, c, w) in specials:\n",
    "    for action in actions:\n",
    "        Q[(i, j)][action] = w"
   ]
  },
  {
   "cell_type": "code",
   "execution_count": 13,
   "metadata": {},
   "outputs": [
    {
     "data": {
      "text/plain": [
       "{(0, 0): {'up': 0.1, 'down': 0.1, 'left': 0.1, 'right': 0.1},\n",
       " (0, 1): {'up': 0.1, 'down': 0.1, 'left': 0.1, 'right': 0.1},\n",
       " (0, 2): {'up': 0.1, 'down': 0.1, 'left': 0.1, 'right': 0.1},\n",
       " (0, 3): {'up': 0.1, 'down': 0.1, 'left': 0.1, 'right': 0.1},\n",
       " (0, 4): {'up': 0.1, 'down': 0.1, 'left': 0.1, 'right': 0.1},\n",
       " (1, 0): {'up': 0.1, 'down': 0.1, 'left': 0.1, 'right': 0.1},\n",
       " (1, 1): {'up': 0.1, 'down': 0.1, 'left': 0.1, 'right': 0.1},\n",
       " (1, 2): {'up': 0.1, 'down': 0.1, 'left': 0.1, 'right': 0.1},\n",
       " (1, 3): {'up': 0.1, 'down': 0.1, 'left': 0.1, 'right': 0.1},\n",
       " (1, 4): {'up': 0.1, 'down': 0.1, 'left': 0.1, 'right': 0.1},\n",
       " (2, 0): {'up': 0.1, 'down': 0.1, 'left': 0.1, 'right': 0.1},\n",
       " (2, 1): {'up': 0.1, 'down': 0.1, 'left': 0.1, 'right': 0.1},\n",
       " (2, 2): {'up': 0.1, 'down': 0.1, 'left': 0.1, 'right': 0.1},\n",
       " (2, 3): {'up': 0.1, 'down': 0.1, 'left': 0.1, 'right': 0.1},\n",
       " (2, 4): {'up': 0.1, 'down': 0.1, 'left': 0.1, 'right': 0.1},\n",
       " (3, 0): {'up': 0.1, 'down': 0.1, 'left': 0.1, 'right': 0.1},\n",
       " (3, 1): {'up': 0.1, 'down': 0.1, 'left': 0.1, 'right': 0.1},\n",
       " (3, 2): {'up': 0.1, 'down': 0.1, 'left': 0.1, 'right': 0.1},\n",
       " (3, 3): {'up': 0.1, 'down': 0.1, 'left': 0.1, 'right': 0.1},\n",
       " (3, 4): {'up': 0.1, 'down': 0.1, 'left': 0.1, 'right': 0.1},\n",
       " (4, 0): {'up': 1, 'down': 1, 'left': 1, 'right': 1},\n",
       " (4, 1): {'up': -1, 'down': -1, 'left': -1, 'right': -1},\n",
       " (4, 2): {'up': 0.1, 'down': 0.1, 'left': 0.1, 'right': 0.1},\n",
       " (4, 3): {'up': 0.1, 'down': 0.1, 'left': 0.1, 'right': 0.1},\n",
       " (4, 4): {'up': 0.1, 'down': 0.1, 'left': 0.1, 'right': 0.1}}"
      ]
     },
     "execution_count": 13,
     "metadata": {},
     "output_type": "execute_result"
    }
   ],
   "source": [
    "Q"
   ]
  },
  {
   "cell_type": "code",
   "execution_count": 14,
   "metadata": {},
   "outputs": [
    {
     "data": {
      "text/plain": [
       "{(1, 3): {'down': 0.018872002619592352,\n",
       "  'right': 0.021448788899526096,\n",
       "  'up': 0.02412227529937986,\n",
       "  'left': 0.02430490190676795},\n",
       " (3, 0): {'down': 0.1, 'right': 0.1, 'up': 0.1, 'left': 0.1},\n",
       " (2, 1): {'down': 0.1, 'right': 0.1, 'up': 0.1, 'left': 0.1},\n",
       " (0, 3): {'down': 0.01994811533545688,\n",
       "  'right': 0.02117265812618962,\n",
       "  'up': 0.0010193053173897515,\n",
       "  'left': -0.01430085373058311},\n",
       " (4, 0): {'down': 1, 'right': 1, 'up': 1, 'left': 1},\n",
       " (1, 2): {'down': 0.1, 'right': 0.1, 'up': 0.1, 'left': 0.1},\n",
       " (3, 3): {'down': 0.016095827363905663,\n",
       "  'right': 0.021970914723533904,\n",
       "  'up': 0.0231290169351263,\n",
       "  'left': 0.023543515431353832},\n",
       " (4, 4): {'down': 0.011698428206374595,\n",
       "  'right': 0.01262389418032901,\n",
       "  'up': 0.013452721358355022,\n",
       "  'left': 0.01488651956327882},\n",
       " (2, 2): {'down': 0.1, 'right': 0.1, 'up': 0.1, 'left': 0.1},\n",
       " (4, 1): {'down': -1, 'right': -1, 'up': -1, 'left': -1},\n",
       " (1, 1): {'down': 0.1, 'right': 0.1, 'up': 0.1, 'left': 0.1},\n",
       " (3, 2): {'down': 0.02333934726985684, 'right': 0.1, 'up': 0.1, 'left': 0.1},\n",
       " (0, 0): {'down': 0.02645148939658405,\n",
       "  'right': 0.026957175248752796,\n",
       "  'up': 0.1,\n",
       "  'left': 0.1},\n",
       " (0, 4): {'down': -0.010000000000000037,\n",
       "  'right': -0.0026336290690488484,\n",
       "  'up': -0.0016871247232068693,\n",
       "  'left': -0.01884925140454582},\n",
       " (1, 4): {'down': 0.001444569417516129,\n",
       "  'right': 0.004239438037426315,\n",
       "  'up': 0.018475210598235748,\n",
       "  'left': 0.01924853369961637},\n",
       " (2, 3): {'down': 0.017611720311991555,\n",
       "  'right': 0.02171463880292414,\n",
       "  'up': 0.023741857156228407,\n",
       "  'left': 0.023934681860063665},\n",
       " (4, 2): {'down': 0.022688376473075453, 'right': 0.1, 'up': 0.1, 'left': 0.1},\n",
       " (1, 0): {'down': 0.027077810211268642, 'right': 0.1, 'up': 0.1, 'left': 0.1},\n",
       " (0, 1): {'down': 0.025613232841313432,\n",
       "  'right': 0.026183523821801967,\n",
       "  'up': 0.002161632559563656,\n",
       "  'left': -0.012467215604432856},\n",
       " (3, 1): {'down': 0.1, 'right': 0.1, 'up': 0.1, 'left': 0.1},\n",
       " (2, 4): {'down': 0.0063526085227136615,\n",
       "  'right': 0.008044531771426921,\n",
       "  'up': 0.017139453558245733,\n",
       "  'left': 0.01805596880050941},\n",
       " (2, 0): {'down': 0.1, 'right': 0.1, 'up': 0.1, 'left': 0.1},\n",
       " (4, 3): {'down': 0.014202514390526607,\n",
       "  'right': 0.022218254069479793,\n",
       "  'up': 0.022457233524822515,\n",
       "  'left': 0.02291215932446472},\n",
       " (3, 4): {'down': 0.009451162060765102,\n",
       "  'right': 0.01065223640081407,\n",
       "  'up': 0.015514946857374142,\n",
       "  'left': 0.016635588841928128},\n",
       " (0, 2): {'down': 0.024656217826769352,\n",
       "  'right': 0.025308950573281835,\n",
       "  'up': 0.0016206487553137965,\n",
       "  'left': -0.013329930630614622}}"
      ]
     },
     "execution_count": 14,
     "metadata": {},
     "output_type": "execute_result"
    }
   ],
   "source": [
    "{(1, 3): {'down': 0.018872002619592352, 'right': 0.021448788899526096, 'up': 0.02412227529937986, 'left': 0.02430490190676795}, (3, 0): {'down': 0.1, 'right': 0.1, 'up': 0.1, 'left': 0.1}, (2, 1): {'down': 0.1, 'right': 0.1, 'up': 0.1, 'left': 0.1}, (0, 3): {'down': 0.01994811533545688, 'right': 0.02117265812618962, 'up': 0.0010193053173897515, 'left': -0.01430085373058311}, (4, 0): {'down': 1, 'right': 1, 'up': 1, 'left': 1}, (1, 2): {'down': 0.1, 'right': 0.1, 'up': 0.1, 'left': 0.1}, (3, 3): {'down': 0.016095827363905663, 'right': 0.021970914723533904, 'up': 0.0231290169351263, 'left': 0.023543515431353832}, (4, 4): {'down': 0.011698428206374595, 'right': 0.01262389418032901, 'up': 0.013452721358355022, 'left': 0.01488651956327882}, (2, 2): {'down': 0.1, 'right': 0.1, 'up': 0.1, 'left': 0.1}, (4, 1): {'down': -1, 'right': -1, 'up': -1, 'left': -1}, (1, 1): {'down': 0.1, 'right': 0.1, 'up': 0.1, 'left': 0.1}, (3, 2): {'down': 0.02333934726985684, 'right': 0.1, 'up': 0.1, 'left': 0.1}, (0, 0): {'down': 0.02645148939658405, 'right': 0.026957175248752796, 'up': 0.1, 'left': 0.1}, (0, 4): {'down': -0.010000000000000037, 'right': -0.0026336290690488484, 'up': -0.0016871247232068693, 'left': -0.01884925140454582}, (1, 4): {'down': 0.001444569417516129, 'right': 0.004239438037426315, 'up': 0.018475210598235748, 'left': 0.01924853369961637}, (2, 3): {'down': 0.017611720311991555, 'right': 0.02171463880292414, 'up': 0.023741857156228407, 'left': 0.023934681860063665}, (4, 2): {'down': 0.022688376473075453, 'right': 0.1, 'up': 0.1, 'left': 0.1}, (1, 0): {'down': 0.027077810211268642, 'right': 0.1, 'up': 0.1, 'left': 0.1}, (0, 1): {'down': 0.025613232841313432, 'right': 0.026183523821801967, 'up': 0.002161632559563656, 'left': -0.012467215604432856}, (3, 1): {'down': 0.1, 'right': 0.1, 'up': 0.1, 'left': 0.1}, (2, 4): {'down': 0.0063526085227136615, 'right': 0.008044531771426921, 'up': 0.017139453558245733, 'left': 0.01805596880050941}, (2, 0): {'down': 0.1, 'right': 0.1, 'up': 0.1, 'left': 0.1}, (4, 3): {'down': 0.014202514390526607, 'right': 0.022218254069479793, 'up': 0.022457233524822515, 'left': 0.02291215932446472}, (3, 4): {'down': 0.009451162060765102, 'right': 0.01065223640081407, 'up': 0.015514946857374142, 'left': 0.016635588841928128}, (0, 2): {'down': 0.024656217826769352, 'right': 0.025308950573281835, 'up': 0.0016206487553137965, 'left': -0.013329930630614622}}"
   ]
  },
  {
   "cell_type": "code",
   "execution_count": null,
   "metadata": {},
   "outputs": [],
   "source": []
  },
  {
   "cell_type": "code",
   "execution_count": null,
   "metadata": {},
   "outputs": [],
   "source": []
  },
  {
   "cell_type": "code",
   "execution_count": null,
   "metadata": {},
   "outputs": [],
   "source": []
  },
  {
   "cell_type": "code",
   "execution_count": null,
   "metadata": {},
   "outputs": [],
   "source": []
  },
  {
   "cell_type": "code",
   "execution_count": null,
   "metadata": {},
   "outputs": [],
   "source": []
  },
  {
   "cell_type": "code",
   "execution_count": null,
   "metadata": {},
   "outputs": [],
   "source": []
  },
  {
   "cell_type": "code",
   "execution_count": null,
   "metadata": {},
   "outputs": [],
   "source": []
  }
 ],
 "metadata": {
  "kernelspec": {
   "display_name": "Python 3",
   "language": "python",
   "name": "python3"
  },
  "language_info": {
   "codemirror_mode": {
    "name": "ipython",
    "version": 3
   },
   "file_extension": ".py",
   "mimetype": "text/x-python",
   "name": "python",
   "nbconvert_exporter": "python",
   "pygments_lexer": "ipython3",
   "version": "3.7.1"
  }
 },
 "nbformat": 4,
 "nbformat_minor": 2
}
